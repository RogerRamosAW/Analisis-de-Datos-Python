{
  "nbformat": 4,
  "nbformat_minor": 0,
  "metadata": {
    "colab": {
      "provenance": []
    },
    "kernelspec": {
      "name": "python3",
      "display_name": "Python 3"
    },
    "language_info": {
      "name": "python"
    }
  },
  "cells": [
    {
      "cell_type": "markdown",
      "source": [
        "# NumPy"
      ],
      "metadata": {
        "id": "IPNM7HNRFIW_"
      }
    },
    {
      "cell_type": "code",
      "execution_count": null,
      "metadata": {
        "colab": {
          "base_uri": "https://localhost:8080/"
        },
        "id": "T-poxqor95Dt",
        "outputId": "7311fade-d26d-4b1e-82a7-29a43cec6942"
      },
      "outputs": [
        {
          "output_type": "execute_result",
          "data": {
            "text/plain": [
              "[1, 2, 3]"
            ]
          },
          "metadata": {},
          "execution_count": 1
        }
      ],
      "source": [
        "x = [1, 2, 3]\n",
        "x"
      ]
    },
    {
      "cell_type": "code",
      "source": [
        "x * 2"
      ],
      "metadata": {
        "colab": {
          "base_uri": "https://localhost:8080/"
        },
        "id": "ygw1JlM3LkEA",
        "outputId": "7fe76f12-3d83-408a-f1d7-9413b1e49cfd"
      },
      "execution_count": null,
      "outputs": [
        {
          "output_type": "execute_result",
          "data": {
            "text/plain": [
              "[1, 2, 3, 1, 2, 3]"
            ]
          },
          "metadata": {},
          "execution_count": 2
        }
      ]
    },
    {
      "cell_type": "code",
      "source": [
        "x * 5"
      ],
      "metadata": {
        "colab": {
          "base_uri": "https://localhost:8080/"
        },
        "id": "mdZQ5fhJLorW",
        "outputId": "d14c3147-c9fb-4ef4-c596-a44fa9311053"
      },
      "execution_count": null,
      "outputs": [
        {
          "output_type": "execute_result",
          "data": {
            "text/plain": [
              "[1, 2, 3, 1, 2, 3, 1, 2, 3, 1, 2, 3, 1, 2, 3]"
            ]
          },
          "metadata": {},
          "execution_count": 3
        }
      ]
    },
    {
      "cell_type": "code",
      "source": [
        "for i in x:\n",
        "  print(i * 2)"
      ],
      "metadata": {
        "colab": {
          "base_uri": "https://localhost:8080/"
        },
        "id": "B7L7qz0cLu6s",
        "outputId": "ed25637f-6eb7-4489-beec-491c473a00f9"
      },
      "execution_count": null,
      "outputs": [
        {
          "output_type": "stream",
          "name": "stdout",
          "text": [
            "2\n",
            "4\n",
            "6\n"
          ]
        }
      ]
    },
    {
      "cell_type": "code",
      "source": [
        "import numpy as np"
      ],
      "metadata": {
        "id": "CTL5KeUULzt5"
      },
      "execution_count": null,
      "outputs": []
    },
    {
      "cell_type": "code",
      "source": [
        "x = np.array([1, 2, 3])\n",
        "x"
      ],
      "metadata": {
        "colab": {
          "base_uri": "https://localhost:8080/"
        },
        "id": "1YQKW9RwL36b",
        "outputId": "ff75dd03-04fd-4dc8-a862-b4aad2bb23bc"
      },
      "execution_count": null,
      "outputs": [
        {
          "output_type": "execute_result",
          "data": {
            "text/plain": [
              "array([1, 2, 3])"
            ]
          },
          "metadata": {},
          "execution_count": 6
        }
      ]
    },
    {
      "cell_type": "code",
      "source": [
        "x * 2"
      ],
      "metadata": {
        "colab": {
          "base_uri": "https://localhost:8080/"
        },
        "id": "eI8Hpi5VL72V",
        "outputId": "3f5b9171-3fa3-4a9a-fccd-5452d8244aee"
      },
      "execution_count": null,
      "outputs": [
        {
          "output_type": "execute_result",
          "data": {
            "text/plain": [
              "array([2, 4, 6])"
            ]
          },
          "metadata": {},
          "execution_count": 7
        }
      ]
    },
    {
      "cell_type": "code",
      "source": [
        "my_arr = np.arange(1_000_000)\n",
        "my_list = list(range(1_000_000))"
      ],
      "metadata": {
        "id": "3HeeJo7_MAZ4"
      },
      "execution_count": null,
      "outputs": []
    },
    {
      "cell_type": "code",
      "source": [
        "%timeit my_arr2 = my_arr * 2"
      ],
      "metadata": {
        "colab": {
          "base_uri": "https://localhost:8080/"
        },
        "id": "muL-gKjyMuHn",
        "outputId": "9ca5a545-f53a-4797-f1d2-eb57eada27fd"
      },
      "execution_count": null,
      "outputs": [
        {
          "output_type": "stream",
          "name": "stdout",
          "text": [
            "387 µs ± 36 µs per loop (mean ± std. dev. of 7 runs, 1000 loops each)\n"
          ]
        }
      ]
    },
    {
      "cell_type": "code",
      "source": [
        "%timeit my_list2 = [x * 2 for x in my_list]"
      ],
      "metadata": {
        "colab": {
          "base_uri": "https://localhost:8080/"
        },
        "id": "jRsmt2TdMyHa",
        "outputId": "d488ce5e-5288-406c-872b-5a88589aaa8e"
      },
      "execution_count": null,
      "outputs": [
        {
          "output_type": "stream",
          "name": "stdout",
          "text": [
            "31.5 ms ± 2.16 ms per loop (mean ± std. dev. of 7 runs, 10 loops each)\n"
          ]
        }
      ]
    },
    {
      "cell_type": "markdown",
      "source": [
        "## Ndarray"
      ],
      "metadata": {
        "id": "-GeaRcZiNesd"
      }
    },
    {
      "cell_type": "code",
      "source": [
        "data = np.array([[1.2, 4, 5.5], [4.5, 6, 7]])\n",
        "data"
      ],
      "metadata": {
        "colab": {
          "base_uri": "https://localhost:8080/"
        },
        "id": "bymvrG21NHeA",
        "outputId": "f95ae362-aa12-4b82-b892-476c0545d00b"
      },
      "execution_count": null,
      "outputs": [
        {
          "output_type": "execute_result",
          "data": {
            "text/plain": [
              "array([[1.2, 4. , 5.5],\n",
              "       [4.5, 6. , 7. ]])"
            ]
          },
          "metadata": {},
          "execution_count": 11
        }
      ]
    },
    {
      "cell_type": "code",
      "source": [
        "data * 10"
      ],
      "metadata": {
        "colab": {
          "base_uri": "https://localhost:8080/"
        },
        "id": "loPBmpVgNyTg",
        "outputId": "087cc61a-ec79-4646-e9c1-0f6e7ace573f"
      },
      "execution_count": null,
      "outputs": [
        {
          "output_type": "execute_result",
          "data": {
            "text/plain": [
              "array([[12., 40., 55.],\n",
              "       [45., 60., 70.]])"
            ]
          },
          "metadata": {},
          "execution_count": 12
        }
      ]
    },
    {
      "cell_type": "code",
      "source": [
        "data.ndim"
      ],
      "metadata": {
        "colab": {
          "base_uri": "https://localhost:8080/"
        },
        "id": "sdHP2LJbN4NC",
        "outputId": "ccdb0cb4-51f9-454e-b5ef-e8bafb90951f"
      },
      "execution_count": null,
      "outputs": [
        {
          "output_type": "execute_result",
          "data": {
            "text/plain": [
              "2"
            ]
          },
          "metadata": {},
          "execution_count": 13
        }
      ]
    },
    {
      "cell_type": "code",
      "source": [
        "data.shape"
      ],
      "metadata": {
        "colab": {
          "base_uri": "https://localhost:8080/"
        },
        "id": "Sbl-pbAkN8A8",
        "outputId": "4e1b4425-df9c-460f-c8df-bce43af06ea7"
      },
      "execution_count": null,
      "outputs": [
        {
          "output_type": "execute_result",
          "data": {
            "text/plain": [
              "(2, 3)"
            ]
          },
          "metadata": {},
          "execution_count": 14
        }
      ]
    },
    {
      "cell_type": "code",
      "source": [
        "dim1 = np.array([1, 2, 3])\n",
        "dim2 = np.array([[1, 2, 3], [4, 5, 6]])\n",
        "dim3 = np.array([[[1, 2, 3], [4, 5, 6]], [[7, 8, 9], [10, 11, 12]]])"
      ],
      "metadata": {
        "id": "SuYmzbVQOAbR"
      },
      "execution_count": null,
      "outputs": []
    },
    {
      "cell_type": "code",
      "source": [
        "dim1"
      ],
      "metadata": {
        "colab": {
          "base_uri": "https://localhost:8080/"
        },
        "id": "FbLpfAFdOZOH",
        "outputId": "686eee5d-59f1-40c7-e55e-d7d3550c0a24"
      },
      "execution_count": null,
      "outputs": [
        {
          "output_type": "execute_result",
          "data": {
            "text/plain": [
              "array([1, 2, 3])"
            ]
          },
          "metadata": {},
          "execution_count": 16
        }
      ]
    },
    {
      "cell_type": "code",
      "source": [
        "dim2"
      ],
      "metadata": {
        "colab": {
          "base_uri": "https://localhost:8080/"
        },
        "id": "MVjgWpLlOZ8j",
        "outputId": "61dfbaae-0bdb-46d1-aef7-3c9fa3040f47"
      },
      "execution_count": null,
      "outputs": [
        {
          "output_type": "execute_result",
          "data": {
            "text/plain": [
              "array([[1, 2, 3],\n",
              "       [4, 5, 6]])"
            ]
          },
          "metadata": {},
          "execution_count": 17
        }
      ]
    },
    {
      "cell_type": "code",
      "source": [
        "dim3"
      ],
      "metadata": {
        "colab": {
          "base_uri": "https://localhost:8080/"
        },
        "id": "fhq8Au3rOabT",
        "outputId": "159cabc4-52da-4578-cfa7-b4691854f28d"
      },
      "execution_count": null,
      "outputs": [
        {
          "output_type": "execute_result",
          "data": {
            "text/plain": [
              "array([[[ 1,  2,  3],\n",
              "        [ 4,  5,  6]],\n",
              "\n",
              "       [[ 7,  8,  9],\n",
              "        [10, 11, 12]]])"
            ]
          },
          "metadata": {},
          "execution_count": 18
        }
      ]
    },
    {
      "cell_type": "code",
      "source": [
        "print(dim1.ndim)\n",
        "print(dim2.ndim)\n",
        "print(dim3.ndim)"
      ],
      "metadata": {
        "colab": {
          "base_uri": "https://localhost:8080/"
        },
        "id": "_B3e_eQsObFM",
        "outputId": "5b46937b-27fb-41d7-adb8-71a595489cae"
      },
      "execution_count": null,
      "outputs": [
        {
          "output_type": "stream",
          "name": "stdout",
          "text": [
            "1\n",
            "2\n",
            "3\n"
          ]
        }
      ]
    },
    {
      "cell_type": "code",
      "source": [
        "print(dim1.shape)\n",
        "print(dim2.shape)\n",
        "print(dim3.shape)"
      ],
      "metadata": {
        "colab": {
          "base_uri": "https://localhost:8080/"
        },
        "id": "pDMFLD1nO1Hf",
        "outputId": "f1798d92-8bc0-4b8a-e5c7-0bcf4206f308"
      },
      "execution_count": null,
      "outputs": [
        {
          "output_type": "stream",
          "name": "stdout",
          "text": [
            "(3,)\n",
            "(2, 3)\n",
            "(2, 2, 3)\n"
          ]
        }
      ]
    },
    {
      "cell_type": "markdown",
      "source": [
        "## Data Types"
      ],
      "metadata": {
        "id": "ZZYJmGENPH2m"
      }
    },
    {
      "cell_type": "code",
      "source": [
        "arr1 = np.array([1, 2, 3], dtype=np.float64)\n",
        "arr1"
      ],
      "metadata": {
        "colab": {
          "base_uri": "https://localhost:8080/"
        },
        "id": "Ao0zUstXO5Nl",
        "outputId": "61ac5357-60c0-456a-ff1d-56215ae56fa9"
      },
      "execution_count": null,
      "outputs": [
        {
          "output_type": "execute_result",
          "data": {
            "text/plain": [
              "array([1., 2., 3.])"
            ]
          },
          "metadata": {},
          "execution_count": 21
        }
      ]
    },
    {
      "cell_type": "code",
      "source": [
        "dim3_float = dim3.astype(np.float64)\n",
        "dim3_float"
      ],
      "metadata": {
        "colab": {
          "base_uri": "https://localhost:8080/"
        },
        "id": "mid6wUmfPWSw",
        "outputId": "026e4078-a285-4562-a02c-cdd5a39c5a80"
      },
      "execution_count": null,
      "outputs": [
        {
          "output_type": "execute_result",
          "data": {
            "text/plain": [
              "array([[[ 1.,  2.,  3.],\n",
              "        [ 4.,  5.,  6.]],\n",
              "\n",
              "       [[ 7.,  8.,  9.],\n",
              "        [10., 11., 12.]]])"
            ]
          },
          "metadata": {},
          "execution_count": 22
        }
      ]
    },
    {
      "cell_type": "markdown",
      "source": [
        "## Index y Slicing"
      ],
      "metadata": {
        "id": "CqQVuUy3PmxT"
      }
    },
    {
      "cell_type": "code",
      "source": [
        "data = np.arange(10)\n",
        "data"
      ],
      "metadata": {
        "colab": {
          "base_uri": "https://localhost:8080/"
        },
        "id": "_B1Qiz_FPgZZ",
        "outputId": "4249b7f9-acc6-4113-eed5-ec94cc5d1516"
      },
      "execution_count": null,
      "outputs": [
        {
          "output_type": "execute_result",
          "data": {
            "text/plain": [
              "array([0, 1, 2, 3, 4, 5, 6, 7, 8, 9])"
            ]
          },
          "metadata": {},
          "execution_count": 23
        }
      ]
    },
    {
      "cell_type": "code",
      "source": [
        "data[3]"
      ],
      "metadata": {
        "colab": {
          "base_uri": "https://localhost:8080/"
        },
        "id": "_J8xgEGtP3N2",
        "outputId": "dafdd2c3-e7f5-4a66-8eb8-4b2af89e26f4"
      },
      "execution_count": null,
      "outputs": [
        {
          "output_type": "execute_result",
          "data": {
            "text/plain": [
              "3"
            ]
          },
          "metadata": {},
          "execution_count": 24
        }
      ]
    },
    {
      "cell_type": "code",
      "source": [
        "data[2:6]"
      ],
      "metadata": {
        "colab": {
          "base_uri": "https://localhost:8080/"
        },
        "id": "MDiaH-iwP6Fb",
        "outputId": "7f9bf4a9-1157-45f1-c83d-5c903998d73e"
      },
      "execution_count": null,
      "outputs": [
        {
          "output_type": "execute_result",
          "data": {
            "text/plain": [
              "array([2, 3, 4, 5])"
            ]
          },
          "metadata": {},
          "execution_count": 27
        }
      ]
    },
    {
      "cell_type": "code",
      "source": [
        "data[2] = 50\n",
        "data"
      ],
      "metadata": {
        "colab": {
          "base_uri": "https://localhost:8080/"
        },
        "id": "Sl3XmwEgQBhe",
        "outputId": "3821d71d-3091-44be-a1ee-90bf9051ba7f"
      },
      "execution_count": null,
      "outputs": [
        {
          "output_type": "execute_result",
          "data": {
            "text/plain": [
              "array([ 0,  1, 50,  3,  4,  5,  6,  7,  8,  9])"
            ]
          },
          "metadata": {},
          "execution_count": 28
        }
      ]
    },
    {
      "cell_type": "code",
      "source": [
        "data[:] = 100\n",
        "data"
      ],
      "metadata": {
        "colab": {
          "base_uri": "https://localhost:8080/"
        },
        "id": "WAZgz90vQTIO",
        "outputId": "444f0cae-2950-4484-89f2-02fd9c2061a6"
      },
      "execution_count": null,
      "outputs": [
        {
          "output_type": "execute_result",
          "data": {
            "text/plain": [
              "array([100, 100, 100, 100, 100, 100, 100, 100, 100, 100])"
            ]
          },
          "metadata": {},
          "execution_count": 29
        }
      ]
    },
    {
      "cell_type": "code",
      "source": [
        "dim2"
      ],
      "metadata": {
        "colab": {
          "base_uri": "https://localhost:8080/"
        },
        "id": "HOb50ou9QXw-",
        "outputId": "54a658c9-1528-4282-f7a8-742a731a92a1"
      },
      "execution_count": null,
      "outputs": [
        {
          "output_type": "execute_result",
          "data": {
            "text/plain": [
              "array([[1, 2, 3],\n",
              "       [4, 5, 6]])"
            ]
          },
          "metadata": {},
          "execution_count": 30
        }
      ]
    },
    {
      "cell_type": "code",
      "source": [
        "dim2[1]"
      ],
      "metadata": {
        "colab": {
          "base_uri": "https://localhost:8080/"
        },
        "id": "NjwwFcv2Qeyw",
        "outputId": "06656d7c-9f40-41ef-d00c-91513b02467c"
      },
      "execution_count": null,
      "outputs": [
        {
          "output_type": "execute_result",
          "data": {
            "text/plain": [
              "array([4, 5, 6])"
            ]
          },
          "metadata": {},
          "execution_count": 32
        }
      ]
    },
    {
      "cell_type": "code",
      "source": [
        "dim2[1][1]"
      ],
      "metadata": {
        "colab": {
          "base_uri": "https://localhost:8080/"
        },
        "id": "UnQD-_BVQgs5",
        "outputId": "25d0701c-cce2-4cbe-f11d-59ad3c13f48c"
      },
      "execution_count": null,
      "outputs": [
        {
          "output_type": "execute_result",
          "data": {
            "text/plain": [
              "5"
            ]
          },
          "metadata": {},
          "execution_count": 34
        }
      ]
    },
    {
      "cell_type": "code",
      "source": [
        "dim2[1:, :2]"
      ],
      "metadata": {
        "colab": {
          "base_uri": "https://localhost:8080/"
        },
        "id": "xw5jnJE5Qq8i",
        "outputId": "ab3cd626-72e8-4a1a-8867-61824248ad6b"
      },
      "execution_count": null,
      "outputs": [
        {
          "output_type": "execute_result",
          "data": {
            "text/plain": [
              "array([[4, 5]])"
            ]
          },
          "metadata": {},
          "execution_count": 40
        }
      ]
    },
    {
      "cell_type": "code",
      "source": [
        "dim3"
      ],
      "metadata": {
        "colab": {
          "base_uri": "https://localhost:8080/"
        },
        "id": "EWB2pL7CQ1cM",
        "outputId": "6657326b-336e-42f8-9154-4e3138cb4973"
      },
      "execution_count": null,
      "outputs": [
        {
          "output_type": "execute_result",
          "data": {
            "text/plain": [
              "array([[[ 1,  2,  3],\n",
              "        [ 4,  5,  6]],\n",
              "\n",
              "       [[ 7,  8,  9],\n",
              "        [10, 11, 12]]])"
            ]
          },
          "metadata": {},
          "execution_count": 42
        }
      ]
    },
    {
      "cell_type": "code",
      "source": [
        "dim3[1][1][2]"
      ],
      "metadata": {
        "colab": {
          "base_uri": "https://localhost:8080/"
        },
        "id": "qHIzS89JRI78",
        "outputId": "8391adf3-3624-4523-c8b3-13ff8db44f18"
      },
      "execution_count": null,
      "outputs": [
        {
          "output_type": "execute_result",
          "data": {
            "text/plain": [
              "12"
            ]
          },
          "metadata": {},
          "execution_count": 45
        }
      ]
    },
    {
      "cell_type": "code",
      "source": [
        "dim3[1, 1, 2]"
      ],
      "metadata": {
        "colab": {
          "base_uri": "https://localhost:8080/"
        },
        "id": "XMbOsxKwRc2A",
        "outputId": "cde97074-abbd-4ee9-a2d4-bf8197bd8156"
      },
      "execution_count": null,
      "outputs": [
        {
          "output_type": "execute_result",
          "data": {
            "text/plain": [
              "12"
            ]
          },
          "metadata": {},
          "execution_count": 49
        }
      ]
    },
    {
      "cell_type": "code",
      "source": [
        "texto = np.array(['cero', 'uno', 'uno', 'cero', 'cero', 'uno'])\n",
        "data = np.array([[1, 2], [3, 4], [5, 6], [7, 8], [9, 10], [11, 12]])"
      ],
      "metadata": {
        "id": "zcOdRXhZRsQ5"
      },
      "execution_count": null,
      "outputs": []
    },
    {
      "cell_type": "code",
      "source": [
        "texto == 'uno'"
      ],
      "metadata": {
        "colab": {
          "base_uri": "https://localhost:8080/"
        },
        "id": "_5ZYAp4UUAOt",
        "outputId": "89e88e0a-02f0-4424-8ac6-7766b6da23d9"
      },
      "execution_count": null,
      "outputs": [
        {
          "output_type": "execute_result",
          "data": {
            "text/plain": [
              "array([False,  True,  True, False, False,  True])"
            ]
          },
          "metadata": {},
          "execution_count": 51
        }
      ]
    },
    {
      "cell_type": "code",
      "source": [
        "data[texto == 'uno']"
      ],
      "metadata": {
        "colab": {
          "base_uri": "https://localhost:8080/"
        },
        "id": "sN4SDvLAUEv3",
        "outputId": "8519bbd6-ee7a-49ed-b011-f0b8531f3f37"
      },
      "execution_count": null,
      "outputs": [
        {
          "output_type": "execute_result",
          "data": {
            "text/plain": [
              "array([[ 3,  4],\n",
              "       [ 5,  6],\n",
              "       [11, 12]])"
            ]
          },
          "metadata": {},
          "execution_count": 52
        }
      ]
    },
    {
      "cell_type": "code",
      "source": [
        "data[texto == 'uno', :1]"
      ],
      "metadata": {
        "colab": {
          "base_uri": "https://localhost:8080/"
        },
        "id": "zyu1XIcDUXXq",
        "outputId": "40924e8b-e4fe-401a-d019-95007dbb62d5"
      },
      "execution_count": null,
      "outputs": [
        {
          "output_type": "execute_result",
          "data": {
            "text/plain": [
              "array([[ 3],\n",
              "       [ 5],\n",
              "       [11]])"
            ]
          },
          "metadata": {},
          "execution_count": 59
        }
      ]
    },
    {
      "cell_type": "code",
      "source": [
        "data[~(texto == 'uno')]"
      ],
      "metadata": {
        "colab": {
          "base_uri": "https://localhost:8080/"
        },
        "id": "RmRWDAaQUg3e",
        "outputId": "35484934-56a2-4203-8467-e424a3cfdcd3"
      },
      "execution_count": null,
      "outputs": [
        {
          "output_type": "execute_result",
          "data": {
            "text/plain": [
              "array([[ 1,  2],\n",
              "       [ 7,  8],\n",
              "       [ 9, 10]])"
            ]
          },
          "metadata": {},
          "execution_count": 60
        }
      ]
    },
    {
      "cell_type": "markdown",
      "source": [
        "## Transposición de arreglos"
      ],
      "metadata": {
        "id": "qx6VpuScVG-P"
      }
    },
    {
      "cell_type": "code",
      "source": [
        "np.arange(20)"
      ],
      "metadata": {
        "colab": {
          "base_uri": "https://localhost:8080/"
        },
        "id": "knq9q8b_VUW2",
        "outputId": "7a698538-c7bd-4583-c258-44cd5a63d5fa"
      },
      "execution_count": null,
      "outputs": [
        {
          "output_type": "execute_result",
          "data": {
            "text/plain": [
              "array([ 0,  1,  2,  3,  4,  5,  6,  7,  8,  9, 10, 11, 12, 13, 14, 15, 16,\n",
              "       17, 18, 19])"
            ]
          },
          "metadata": {},
          "execution_count": 61
        }
      ]
    },
    {
      "cell_type": "code",
      "source": [
        "arr = np.arange(20).reshape(4, 5)\n",
        "arr"
      ],
      "metadata": {
        "colab": {
          "base_uri": "https://localhost:8080/"
        },
        "id": "zIumUytHU5G_",
        "outputId": "c76894bf-05a6-4272-c89b-e65b2cd3f2f2"
      },
      "execution_count": null,
      "outputs": [
        {
          "output_type": "execute_result",
          "data": {
            "text/plain": [
              "array([[ 0,  1,  2,  3,  4],\n",
              "       [ 5,  6,  7,  8,  9],\n",
              "       [10, 11, 12, 13, 14],\n",
              "       [15, 16, 17, 18, 19]])"
            ]
          },
          "metadata": {},
          "execution_count": 68
        }
      ]
    },
    {
      "cell_type": "code",
      "source": [
        "arr.T"
      ],
      "metadata": {
        "colab": {
          "base_uri": "https://localhost:8080/"
        },
        "id": "-7ngO5slVZez",
        "outputId": "be4cd5a8-f5ba-4dde-d1de-929ff3e10443"
      },
      "execution_count": null,
      "outputs": [
        {
          "output_type": "execute_result",
          "data": {
            "text/plain": [
              "array([[ 0,  5, 10, 15],\n",
              "       [ 1,  6, 11, 16],\n",
              "       [ 2,  7, 12, 17],\n",
              "       [ 3,  8, 13, 18],\n",
              "       [ 4,  9, 14, 19]])"
            ]
          },
          "metadata": {},
          "execution_count": 69
        }
      ]
    },
    {
      "cell_type": "code",
      "source": [
        "np.dot(arr.T, arr)"
      ],
      "metadata": {
        "colab": {
          "base_uri": "https://localhost:8080/"
        },
        "id": "XBRXeaLAVrim",
        "outputId": "aaa20269-3f53-4987-9be3-3758d097ce66"
      },
      "execution_count": null,
      "outputs": [
        {
          "output_type": "execute_result",
          "data": {
            "text/plain": [
              "array([[350, 380, 410, 440, 470],\n",
              "       [380, 414, 448, 482, 516],\n",
              "       [410, 448, 486, 524, 562],\n",
              "       [440, 482, 524, 566, 608],\n",
              "       [470, 516, 562, 608, 654]])"
            ]
          },
          "metadata": {},
          "execution_count": 70
        }
      ]
    },
    {
      "cell_type": "code",
      "source": [
        "arr_t = arr.T @ arr"
      ],
      "metadata": {
        "id": "ha1Gh8EnV2_U"
      },
      "execution_count": null,
      "outputs": []
    },
    {
      "cell_type": "code",
      "source": [
        "arr_t"
      ],
      "metadata": {
        "colab": {
          "base_uri": "https://localhost:8080/"
        },
        "id": "WPndXRoSV8gt",
        "outputId": "a1089df3-0368-456f-f947-2cd2e55cf1b6"
      },
      "execution_count": null,
      "outputs": [
        {
          "output_type": "execute_result",
          "data": {
            "text/plain": [
              "array([[350, 380, 410, 440, 470],\n",
              "       [380, 414, 448, 482, 516],\n",
              "       [410, 448, 486, 524, 562],\n",
              "       [440, 482, 524, 566, 608],\n",
              "       [470, 516, 562, 608, 654]])"
            ]
          },
          "metadata": {},
          "execution_count": 73
        }
      ]
    },
    {
      "cell_type": "code",
      "source": [
        "arr_t > 450"
      ],
      "metadata": {
        "colab": {
          "base_uri": "https://localhost:8080/"
        },
        "id": "WTn1SISzWEzo",
        "outputId": "deb5ff4c-2636-4eb2-eb83-8c48ca820bee"
      },
      "execution_count": null,
      "outputs": [
        {
          "output_type": "execute_result",
          "data": {
            "text/plain": [
              "array([[False, False, False, False,  True],\n",
              "       [False, False, False,  True,  True],\n",
              "       [False, False,  True,  True,  True],\n",
              "       [False,  True,  True,  True,  True],\n",
              "       [ True,  True,  True,  True,  True]])"
            ]
          },
          "metadata": {},
          "execution_count": 74
        }
      ]
    },
    {
      "cell_type": "code",
      "source": [
        "np.where(arr_t > 450, 1, 0)"
      ],
      "metadata": {
        "colab": {
          "base_uri": "https://localhost:8080/"
        },
        "id": "GkUAQjeMWKkg",
        "outputId": "cf8d2c7f-580c-464d-aa46-8683f50cb1f1"
      },
      "execution_count": null,
      "outputs": [
        {
          "output_type": "execute_result",
          "data": {
            "text/plain": [
              "array([[0, 0, 0, 0, 1],\n",
              "       [0, 0, 0, 1, 1],\n",
              "       [0, 0, 1, 1, 1],\n",
              "       [0, 1, 1, 1, 1],\n",
              "       [1, 1, 1, 1, 1]])"
            ]
          },
          "metadata": {},
          "execution_count": 75
        }
      ]
    },
    {
      "cell_type": "code",
      "source": [
        "arr_t.mean()"
      ],
      "metadata": {
        "colab": {
          "base_uri": "https://localhost:8080/"
        },
        "id": "XktBmA6dWoYw",
        "outputId": "4ed4a2f9-dcec-4a9b-f54c-a631f73d4fce"
      },
      "execution_count": null,
      "outputs": [
        {
          "output_type": "execute_result",
          "data": {
            "text/plain": [
              "486.0"
            ]
          },
          "metadata": {},
          "execution_count": 79
        }
      ]
    },
    {
      "cell_type": "code",
      "source": [
        "np.mean(arr_t)"
      ],
      "metadata": {
        "colab": {
          "base_uri": "https://localhost:8080/"
        },
        "id": "PyFUPFtfWwC_",
        "outputId": "17b05b23-f7d4-4601-8ed7-d5b242b30ff6"
      },
      "execution_count": null,
      "outputs": [
        {
          "output_type": "execute_result",
          "data": {
            "text/plain": [
              "486.0"
            ]
          },
          "metadata": {},
          "execution_count": 80
        }
      ]
    },
    {
      "cell_type": "code",
      "source": [
        "arr_t.mean(axis=1)"
      ],
      "metadata": {
        "colab": {
          "base_uri": "https://localhost:8080/"
        },
        "id": "NNa19eKKW0VZ",
        "outputId": "b055c9bc-88bd-4a2f-f2f1-eb30c1635e40"
      },
      "execution_count": null,
      "outputs": [
        {
          "output_type": "execute_result",
          "data": {
            "text/plain": [
              "array([410., 448., 486., 524., 562.])"
            ]
          },
          "metadata": {},
          "execution_count": 81
        }
      ]
    },
    {
      "cell_type": "code",
      "source": [
        "arr_t.mean(axis=0)\n"
      ],
      "metadata": {
        "colab": {
          "base_uri": "https://localhost:8080/"
        },
        "id": "Ank8mgmaW5qE",
        "outputId": "7e87b8c8-a3bc-46ec-db36-a4d3cfc07b79"
      },
      "execution_count": null,
      "outputs": [
        {
          "output_type": "execute_result",
          "data": {
            "text/plain": [
              "array([410., 448., 486., 524., 562.])"
            ]
          },
          "metadata": {},
          "execution_count": 82
        }
      ]
    },
    {
      "cell_type": "code",
      "source": [
        "arr_t"
      ],
      "metadata": {
        "colab": {
          "base_uri": "https://localhost:8080/"
        },
        "id": "UHSPFhLQXILf",
        "outputId": "8f69e016-479a-44c1-8ec7-9f325b7ae592"
      },
      "execution_count": null,
      "outputs": [
        {
          "output_type": "execute_result",
          "data": {
            "text/plain": [
              "array([[350, 380, 410, 440, 470],\n",
              "       [380, 414, 448, 482, 516],\n",
              "       [410, 448, 486, 524, 562],\n",
              "       [440, 482, 524, 566, 608],\n",
              "       [470, 516, 562, 608, 654]])"
            ]
          },
          "metadata": {},
          "execution_count": 84
        }
      ]
    },
    {
      "cell_type": "code",
      "source": [
        "arr_t.cumsum(axis=0)"
      ],
      "metadata": {
        "colab": {
          "base_uri": "https://localhost:8080/"
        },
        "id": "WFzj3opuW_Dt",
        "outputId": "54c8d525-6520-4776-ade8-5f283428dddc"
      },
      "execution_count": null,
      "outputs": [
        {
          "output_type": "execute_result",
          "data": {
            "text/plain": [
              "array([[ 350,  380,  410,  440,  470],\n",
              "       [ 730,  794,  858,  922,  986],\n",
              "       [1140, 1242, 1344, 1446, 1548],\n",
              "       [1580, 1724, 1868, 2012, 2156],\n",
              "       [2050, 2240, 2430, 2620, 2810]])"
            ]
          },
          "metadata": {},
          "execution_count": 83
        }
      ]
    },
    {
      "cell_type": "code",
      "source": [
        "arr_t.cumsum(axis=1)"
      ],
      "metadata": {
        "colab": {
          "base_uri": "https://localhost:8080/"
        },
        "id": "6S-fuzr_XF4e",
        "outputId": "11e223a1-031b-4aff-f117-f7929367b75f"
      },
      "execution_count": null,
      "outputs": [
        {
          "output_type": "execute_result",
          "data": {
            "text/plain": [
              "array([[ 350,  730, 1140, 1580, 2050],\n",
              "       [ 380,  794, 1242, 1724, 2240],\n",
              "       [ 410,  858, 1344, 1868, 2430],\n",
              "       [ 440,  922, 1446, 2012, 2620],\n",
              "       [ 470,  986, 1548, 2156, 2810]])"
            ]
          },
          "metadata": {},
          "execution_count": 85
        }
      ]
    },
    {
      "cell_type": "code",
      "source": [
        "arr = np.random.standard_normal((5,3))\n",
        "arr"
      ],
      "metadata": {
        "colab": {
          "base_uri": "https://localhost:8080/"
        },
        "id": "azsFYGepXjei",
        "outputId": "2f31f63b-a0f9-481d-c4fd-84141cfd3712"
      },
      "execution_count": null,
      "outputs": [
        {
          "output_type": "execute_result",
          "data": {
            "text/plain": [
              "array([[-1.30123584,  0.69664944, -0.6125937 ],\n",
              "       [-0.08300393,  0.7179013 ,  0.21242968],\n",
              "       [ 0.46569574, -0.95780928, -0.82179142],\n",
              "       [-1.02064194,  0.30666731, -1.5081352 ],\n",
              "       [ 1.21291611,  1.72777453,  0.49130692]])"
            ]
          },
          "metadata": {},
          "execution_count": 90
        }
      ]
    },
    {
      "cell_type": "code",
      "source": [
        "arr.sort()\n",
        "arr"
      ],
      "metadata": {
        "colab": {
          "base_uri": "https://localhost:8080/"
        },
        "id": "_DPwm0bZXytm",
        "outputId": "fd8ba855-3e39-4cac-e01f-aa5c39fc8c6a"
      },
      "execution_count": null,
      "outputs": [
        {
          "output_type": "execute_result",
          "data": {
            "text/plain": [
              "array([[-1.30123584, -0.6125937 ,  0.69664944],\n",
              "       [-0.08300393,  0.21242968,  0.7179013 ],\n",
              "       [-0.95780928, -0.82179142,  0.46569574],\n",
              "       [-1.5081352 , -1.02064194,  0.30666731],\n",
              "       [ 0.49130692,  1.21291611,  1.72777453]])"
            ]
          },
          "metadata": {},
          "execution_count": 91
        }
      ]
    },
    {
      "cell_type": "code",
      "source": [
        "arr.sort(axis=0)\n",
        "arr"
      ],
      "metadata": {
        "colab": {
          "base_uri": "https://localhost:8080/"
        },
        "id": "koHgNXmqX1gp",
        "outputId": "1d8f2fdb-f8d7-4350-d8d8-63abcaa1c2a2"
      },
      "execution_count": null,
      "outputs": [
        {
          "output_type": "execute_result",
          "data": {
            "text/plain": [
              "array([[-1.5081352 , -1.02064194,  0.30666731],\n",
              "       [-1.30123584, -0.82179142,  0.46569574],\n",
              "       [-0.95780928, -0.6125937 ,  0.69664944],\n",
              "       [-0.08300393,  0.21242968,  0.7179013 ],\n",
              "       [ 0.49130692,  1.21291611,  1.72777453]])"
            ]
          },
          "metadata": {},
          "execution_count": 92
        }
      ]
    },
    {
      "cell_type": "code",
      "source": [],
      "metadata": {
        "id": "N1k4YHPEYECt"
      },
      "execution_count": null,
      "outputs": []
    }
  ]
}